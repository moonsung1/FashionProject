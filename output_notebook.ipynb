{
 "cells": [
  {
   "cell_type": "code",
   "execution_count": 1,
   "id": "2e0b7c13-d7af-43ba-8520-31542999c787",
   "metadata": {
    "execution": {
     "iopub.execute_input": "2024-06-21T17:02:55.060909Z",
     "iopub.status.busy": "2024-06-21T17:02:55.060909Z",
     "iopub.status.idle": "2024-06-21T17:03:02.130813Z",
     "shell.execute_reply": "2024-06-21T17:03:02.128454Z"
    }
   },
   "outputs": [],
   "source": [
    "# 라이브러리\n",
    "# 브라우저 제어를 위한 selenium\n",
    "# selenium 본체\n",
    "from selenium import webdriver\n",
    "from selenium.webdriver.chrome.options import Options\n",
    "from selenium.webdriver.chrome.service import Service\n",
    "# selenium 키입력\n",
    "from selenium.webdriver.common.by import By\n",
    "from selenium.webdriver.common.keys import Keys\n",
    "from selenium.webdriver import ActionChains\n",
    "# 키입력간 딜레이를 주기위한\n",
    "import time\n",
    "# 봇 탐지 우회를 위한 subprocess\n",
    "import subprocess\n",
    "# 크롬 브라우저 자동 버전 관리\n",
    "from webdriver_manager.chrome import ChromeDriverManager\n",
    "# 파일 디렉터리에 접근\n",
    "import os\n",
    "# 웹 드라이버 로드되도록 기다리기\n",
    "\n",
    "# const\n",
    "WAIT_INTERVAL = 3\n",
    "\n",
    "##### path 설정 #####\n",
    "browserPath = r\"C:\\Program Files\\Google\\Chrome\\Application\\chrome.exe\"\n",
    "cookiePath = r\"C:\\Users\\moonsung1\\AppData\\Local\\Google\\Chrome\\User Data\"\n",
    "closetPath = r\"C:\\Users\\moonsung1\\Desktop\\201826\\public\\uploads\"\n",
    "shoesDirName = \"shoe\"\n",
    "topDirName = \"top\"\n",
    "bottomDirName = \"bottom\"\n",
    "outerDirName = \"outer\"\n",
    "#####################\n",
    "# 서브 프로세스로 크롬 브라우저 boot\n",
    "subProc = subprocess.Popen(r'{0} --remote-debugging-port=9222 --user-data-dir=\"{1}\"'.format(browserPath, cookiePath))\n",
    "url = \"https://chatgpt.com/\"\n",
    "\n",
    "option = Options()\n",
    "option.add_experimental_option(\"debuggerAddress\", \"127.0.0.1:9222\")\n",
    "driver = webdriver.Chrome(service=Service(ChromeDriverManager().install()), options=option)\n",
    "driver.set_window_position(1529, 849)\n",
    "time.sleep(WAIT_INTERVAL)\n"
   ]
  },
  {
   "cell_type": "code",
   "execution_count": 2,
   "id": "d8067290-0ca9-49a9-93a6-ade5d67f3ecb",
   "metadata": {
    "execution": {
     "iopub.execute_input": "2024-06-21T17:03:02.130813Z",
     "iopub.status.busy": "2024-06-21T17:03:02.130813Z",
     "iopub.status.idle": "2024-06-21T17:03:02.162756Z",
     "shell.execute_reply": "2024-06-21T17:03:02.162756Z"
    }
   },
   "outputs": [],
   "source": [
    "# chatGPT Class\n",
    "class ChatGPT:\n",
    "    \n",
    "    def __init__(self, driver):\n",
    "        self.GPT_URL = \"https://chatgpt.com/\"\n",
    "        self.driver = driver\n",
    "        self.newGPT()\n",
    "        \n",
    "    def newGPT(self):\n",
    "        self.driver.get(self.GPT_URL)\n",
    "        time.sleep(WAIT_INTERVAL * 2)\n",
    "        self.getMainTag()\n",
    "\n",
    "    def getMainTag(self):\n",
    "        self.textBox = self.driver.find_element(By.CSS_SELECTOR, \"#prompt-textarea\")\n",
    "        self.imgTag = self.driver.find_element(By.CSS_SELECTOR, \"#__next > div.relative.z-0.flex.h-full.w-full.overflow-hidden > div.relative.flex.h-full.max-w-full.flex-1.flex-col.overflow-hidden > main > div.flex.h-full.flex-col.focus-visible\\:outline-0 > div.w-full.md\\:pt-0.dark\\:border-white\\/20.md\\:border-transparent.md\\:dark\\:border-transparent.md\\:w-\\[calc\\(100\\%-\\.5rem\\)\\].juice\\:w-full > div.px-3.text-base.md\\:px-4.m-auto.md\\:px-5.lg\\:px-1.xl\\:px-5 > div > form > div > div.flex.w-full.items-center > div > div > div:nth-child(1) > div > input\")\n",
    "        self.sendButton = self.driver.find_element(By.CSS_SELECTOR, \"#__next > div.relative.z-0.flex.h-full.w-full.overflow-hidden > div.relative.flex.h-full.max-w-full.flex-1.flex-col.overflow-hidden > main > div.flex.h-full.flex-col.focus-visible\\:outline-0 > div.w-full.md\\:pt-0.dark\\:border-white\\/20.md\\:border-transparent.md\\:dark\\:border-transparent.md\\:w-\\[calc\\(100\\%-\\.5rem\\)\\].juice\\:w-full > div.px-3.text-base.md\\:px-4.m-auto.md\\:px-5.lg\\:px-1.xl\\:px-5 > div > form > div > div.flex.w-full.items-center > div > div > button\")\n",
    "\n",
    "    def canSend(self): # 주의할 점, 한 글자도 입력되지 않아도 보낼 수 없는 조건이다. 입력해놓고 대기할때 쓰자\n",
    "        disabled = self.sendButton.get_attribute(\"disabled\")\n",
    "        stop_button = self.sendButton.get_attribute(\"data-testid\")\n",
    "        if(disabled or (stop_button == \"fruitjuice-stop-button\")): # send버튼이 disable이거나 data-testid가 중단이라면 False\n",
    "            return False\n",
    "        else: return True\n",
    "\n",
    "    def isStopButton(self): # chatGPT가 결과물을 다 뱉었는지 보는 \n",
    "        stop_button = self.sendButton.get_attribute(\"data-testid\")\n",
    "        if(stop_button == \"fruitjuice-stop-button\"):\n",
    "            return True\n",
    "        else: return False\n",
    "\n",
    "    def waitWhileStopButton(self):\n",
    "        time.sleep(WAIT_INTERVAL * 1)\n",
    "        while(self.isStopButton()):\n",
    "            time.sleep(WAIT_INTERVAL)\n",
    "        time.sleep(WAIT_INTERVAL * 1) \n",
    "            \n",
    "    def enter(self):\n",
    "        ActionChains(self.driver).click(self.sendButton).perform()\n",
    "\n",
    "    def inputText(self, text):\n",
    "        self.textBox.send_keys(text)\n",
    "\n",
    "    def inputImg(self, imgPath):\n",
    "        self.imgTag.send_keys(imgPath)\n",
    "\n",
    "    def inputImgs(self, imgPathList):\n",
    "        imgPaths = \"\\n\".join(imgPathList)\n",
    "        self.inputImg(imgPaths)\n",
    "\n",
    "    def fetchChats(self):\n",
    "        self.chats = driver.find_elements(By.CSS_SELECTOR, \"#__next > div.relative.z-0.flex.h-full.w-full.overflow-hidden > div.relative.flex.h-full.max-w-full.flex-1.flex-col.overflow-hidden > main > div.flex.h-full.flex-col.focus-visible\\:outline-0 > div.flex-1.overflow-hidden > div > div > div > div > div\")\n",
    "                                                            \n",
    "    def downloadResultImg(self):\n",
    "        #button = self.chats[-1].find_element(By.CSS_SELECTOR, \"div > div > div.group\\/conversation-turn.relative.flex.w-full.min-w-0.flex-col.agent-turn > div > div.flex.flex-grow.flex-col.max-w-full > div.grid.gap-2.grid-cols-1.my-1.transition-opacity.duration-300 > div > div > div > div.relative.h-full > div.invisible.absolute.top-3.flex.gap-1.group-hover\\/dalle-image\\:visible.right-3 > button\")\n",
    "        button = self.chats[-1].find_element(By.CSS_SELECTOR, \"div div.invisible.absolute.top-3.flex.gap-1.group-hover\\/dalle-image\\:visible.right-3 > button\")\n",
    "        ActionChains(self.driver).click(button).perform()\n",
    "        \n",
    "\n",
    "    def downloadResultText(self):\n",
    "        #result = self.chats[-1].find_element(By.CSS_SELECTOR, \"div > div > div.group\\/conversation-turn.relative.flex.w-full.min-w-0.flex-col.agent-turn > div > div.flex.flex-grow.flex-col.max-w-full > div > div > div > p\")\n",
    "        result = self.chats[-1].find_element(By.CSS_SELECTOR, \"div div.flex.flex-grow.flex-col.max-w-full > div > div > div > p\")\n",
    "        resultText = result.get_attribute(\"innerText\")\n",
    "        textList = resultText.replace(\"[\", \",\").replace(\"]\", \",\").split(\",\")\n",
    "        # 안 쓰는 앞 뒤 제거\n",
    "        textList.pop(-1)\n",
    "        textList.pop(0)\n",
    "        resultList = list(map(int, textList))\n",
    "        return resultList\n",
    "\n",
    "#__next > div.relative.z-0.flex.h-full.w-full.overflow-hidden > div > main > div.flex.h-full.flex-col.focus-visible\\:outline-0 > div.flex-1.overflow-hidden > div > div > div > div > div:nth-child(3) > div > div > div.group\\/conversation-turn.relative.flex.w-full.min-w-0.flex-col.agent-turn > div > div.flex.flex-grow.flex-col.max-w-full > div > div > div > p"
   ]
  },
  {
   "cell_type": "code",
   "execution_count": 3,
   "id": "181f1427-9664-4995-a9b4-ea6d2db0b2cd",
   "metadata": {
    "execution": {
     "iopub.execute_input": "2024-06-21T17:03:02.162756Z",
     "iopub.status.busy": "2024-06-21T17:03:02.162756Z",
     "iopub.status.idle": "2024-06-21T17:03:02.196406Z",
     "shell.execute_reply": "2024-06-21T17:03:02.193691Z"
    }
   },
   "outputs": [],
   "source": [
    "class Closet:\n",
    "    def __init__(self, closetPath):\n",
    "        self.closetPath = closetPath\n",
    "        ##### 옷장 아래에 신발(shoes), 탑(top), 바텀(bottom) 폴더명 변경 해야합니다 #####\n",
    "        self.shoesPath =r\"{0}\\{1}\".format(closetPath, shoesDirName)\n",
    "        self.topPath =r\"{0}\\{1}\".format(closetPath, topDirName)\n",
    "        self.bottomPath =r\"{0}\\{1}\".format(closetPath, bottomDirName)\n",
    "        self.outerPath =r\"{0}\\{1}\".format(closetPath, outerDirName)\n",
    "\n",
    "        self.fetchShoesList()\n",
    "        self.fetchTopList()\n",
    "        self.fetchBottomList()\n",
    "        self.fetchOuterList()\n",
    "        \n",
    "    def fetchShoesList(self):\n",
    "        self.shoesList = os.listdir(self.shoesPath)\n",
    "        self.shoesList_noXtender = list(map(self.deleteJPGxtender, self.shoesList))\n",
    "        \n",
    "    def fetchTopList(self):\n",
    "        self.topList = os.listdir(self.topPath)\n",
    "        self.topList_noXtender = list(map(self.deleteJPGxtender, self.topList))\n",
    "        \n",
    "    def fetchBottomList(self):\n",
    "        self.bottomList = os.listdir(self.bottomPath)\n",
    "        self.bottomList_noXtender = list(map(self.deleteJPGxtender, self.bottomList))\n",
    "\n",
    "    def fetchOuterList(self):\n",
    "        self.outerList = os.listdir(self.outerPath)\n",
    "        self.outerList_noXtender = list(map(self.deleteJPGxtender, self.outerList))\n",
    "        \n",
    "    def deleteJPGxtender(self, fileName):\n",
    "        tmp_file = fileName.split(\".\")\n",
    "        return tmp_file[0]\n",
    "\n",
    "    def shoesListToString(self):\n",
    "        indexedShoesList = []\n",
    "        for index, shoes in enumerate(self.shoesList_noXtender):\n",
    "            indexedShoes = f\"{index}. {shoes}\"\n",
    "            indexedShoesList.append(indexedShoes)\n",
    "\n",
    "        return \", \".join(indexedShoesList)\n",
    "        \n",
    "    def topListToString(self):\n",
    "        indexedTopList = []\n",
    "        for index, top in enumerate(self.topList_noXtender):\n",
    "            indexedTop = f\"{index}. {top}\"\n",
    "            indexedTopList.append(indexedTop)\n",
    "\n",
    "        return \", \".join(indexedTopList)\n",
    "        \n",
    "    def bottomListToString(self):\n",
    "        indexedBottomList = []\n",
    "        for index, bottom in enumerate(self.bottomList_noXtender):\n",
    "            indexedBottom = f\"{index}. {bottom}\"\n",
    "            indexedBottomList.append(indexedBottom)\n",
    "\n",
    "        return \", \".join(indexedBottomList)\n",
    "\n",
    "    def outerListToString(self):\n",
    "        indexedOuterList = []\n",
    "        for index, outer in enumerate(self.outerList_noXtender):\n",
    "            indexedOuter = f\"{index}. {outer}\"\n",
    "            indexedOuterList.append(indexedOuter)\n",
    "\n",
    "        return \", \".join(indexedOuterList)\n",
    "        "
   ]
  },
  {
   "cell_type": "code",
   "execution_count": 4,
   "id": "c5f08d2e-6c31-467c-90ff-57a96365df8a",
   "metadata": {
    "execution": {
     "iopub.execute_input": "2024-06-21T17:03:02.210584Z",
     "iopub.status.busy": "2024-06-21T17:03:02.210584Z",
     "iopub.status.idle": "2024-06-21T17:03:11.705973Z",
     "shell.execute_reply": "2024-06-21T17:03:11.705973Z"
    }
   },
   "outputs": [],
   "source": [
    "# chatGPT 생성\n",
    "chatGPT = ChatGPT(driver)\n",
    "time.sleep(WAIT_INTERVAL)"
   ]
  },
  {
   "cell_type": "code",
   "execution_count": 5,
   "id": "c4b47b7a-9f91-4b25-9764-67f7d2b31c45",
   "metadata": {
    "execution": {
     "iopub.execute_input": "2024-06-21T17:03:11.715742Z",
     "iopub.status.busy": "2024-06-21T17:03:11.713122Z",
     "iopub.status.idle": "2024-06-21T17:03:11.723877Z",
     "shell.execute_reply": "2024-06-21T17:03:11.723877Z"
    }
   },
   "outputs": [],
   "source": [
    "# 임의 옷장 하나 생성\n",
    "closet = Closet(closetPath)"
   ]
  },
  {
   "cell_type": "code",
   "execution_count": 6,
   "id": "85a78b9c-7bcc-4b2a-9081-06444195d3fe",
   "metadata": {
    "execution": {
     "iopub.execute_input": "2024-06-21T17:03:11.731508Z",
     "iopub.status.busy": "2024-06-21T17:03:11.731508Z",
     "iopub.status.idle": "2024-06-21T17:03:11.743065Z",
     "shell.execute_reply": "2024-06-21T17:03:11.743065Z"
    }
   },
   "outputs": [],
   "source": [
    "requestText = \"\"\n",
    "requestText += \"내가 가지고 있는 옷을 알려주면, 오늘의 날씨, 기온,  색깔 조합(옷 조합의 디자인) 세 가지를 고려해서 옷 조합을 추천해줘 \"\n",
    "requestText += \"내가 가진 옷은 다음과 같아. \"\n",
    "requestText += \"(신발: \" + closet.shoesListToString()\n",
    "requestText += \") (상의: \" + closet.topListToString()\n",
    "requestText += \") (하의: \" + closet.bottomListToString()\n",
    "requestText += \") (아우터: \" + closet.outerListToString()\n",
    "requestText += \") 추천하는 옷 조합을 신발, 상의, 하의, 아우터 순서대로 번호를 GPTrecommended 리스트에 담아줘. 예를 들면 GPTrecommended = [0, 2, 1, 3] 이렇게. \"\n",
    "requestText += \"이유가 있다면 아우터는 선택하지 않아도 돼 특히 날씨가 덥거나 하다면. 선택하지 않으면 -1을 리스트에 담아줘. \"\n",
    "requestText += \"대답은 GPTrecommended만 해 아주 짧게.GPTrecommended 리스트만 알려주고 다른 건 말 하지마.\""
   ]
  },
  {
   "cell_type": "code",
   "execution_count": 7,
   "id": "2cf8fc3d-1018-44cb-9bd7-253f51ca5323",
   "metadata": {
    "execution": {
     "iopub.execute_input": "2024-06-21T17:03:11.747583Z",
     "iopub.status.busy": "2024-06-21T17:03:11.747583Z",
     "iopub.status.idle": "2024-06-21T17:03:30.811989Z",
     "shell.execute_reply": "2024-06-21T17:03:30.811989Z"
    }
   },
   "outputs": [],
   "source": [
    "# 요청 보내기\n",
    "chatGPT.inputText(requestText)\n",
    "chatGPT.enter()\n",
    "\n",
    "chatGPT.waitWhileStopButton()"
   ]
  },
  {
   "cell_type": "code",
   "execution_count": 8,
   "id": "c953159f-3c99-447b-9fab-5d89e88bc8f3",
   "metadata": {
    "execution": {
     "iopub.execute_input": "2024-06-21T17:03:30.816002Z",
     "iopub.status.busy": "2024-06-21T17:03:30.816002Z",
     "iopub.status.idle": "2024-06-21T17:03:33.889231Z",
     "shell.execute_reply": "2024-06-21T17:03:33.889231Z"
    },
    "scrolled": true
   },
   "outputs": [],
   "source": [
    "# 결과물 가져오기 \n",
    "chatGPT.fetchChats()\n",
    "chosenClothes = chatGPT.downloadResultText()\n",
    "time.sleep(WAIT_INTERVAL)\n",
    "\n",
    "chosenShoesIndex = chosenClothes[0]\n",
    "chosenTopIndex = chosenClothes[1]\n",
    "chosenBottomIndex = chosenClothes[2]\n",
    "chosenOuterIndex = chosenClothes[3]"
   ]
  },
  {
   "cell_type": "code",
   "execution_count": 9,
   "id": "fbc0dc69-691c-48dd-bb6c-a6c35e662307",
   "metadata": {
    "execution": {
     "iopub.execute_input": "2024-06-21T17:03:33.900435Z",
     "iopub.status.busy": "2024-06-21T17:03:33.900435Z",
     "iopub.status.idle": "2024-06-21T17:03:40.057720Z",
     "shell.execute_reply": "2024-06-21T17:03:40.057720Z"
    }
   },
   "outputs": [],
   "source": [
    "# 고른 걸로 옷 그려줘(옷 업로드)\n",
    "shoesPath = r\"{0}\\{1}\".format(closet.shoesPath, closet.shoesList[chosenShoesIndex])\n",
    "topPath = r\"{0}\\{1}\".format(closet.topPath, closet.topList[chosenTopIndex])\n",
    "bottomPath = r\"{0}\\{1}\".format(closet.bottomPath, closet.bottomList[chosenBottomIndex])\n",
    "pathList = [shoesPath, topPath, bottomPath]\n",
    "if(chosenOuterIndex != -1):\n",
    "    outerPath = r\"{0}\\{1}\".format(closet.outerPath, closet.outerList[chosenOuterIndex])\n",
    "    pathList.append(outerPath)\n",
    "\n",
    "chatGPT.inputImgs(pathList)\n",
    "\n",
    "chatGPT.waitWhileStopButton()"
   ]
  },
  {
   "cell_type": "code",
   "execution_count": 10,
   "id": "561c1e04-cf14-4397-8abd-ab9e2c366677",
   "metadata": {
    "execution": {
     "iopub.execute_input": "2024-06-21T17:03:40.067175Z",
     "iopub.status.busy": "2024-06-21T17:03:40.067175Z",
     "iopub.status.idle": "2024-06-21T17:04:24.854637Z",
     "shell.execute_reply": "2024-06-21T17:04:24.854637Z"
    }
   },
   "outputs": [],
   "source": [
    "# 고른 걸로 옷 그려줘(텍스트로 업로드)\n",
    "chosenShoesName = closet.shoesList_noXtender[chosenShoesIndex]\n",
    "chosenTopName = closet.topList_noXtender[chosenTopIndex]\n",
    "chosenBottomName = closet.bottomList_noXtender[chosenBottomIndex]\n",
    "\n",
    "chosenNameList = [chosenShoesName, chosenTopName, chosenBottomName]\n",
    "if(chosenOuterIndex != -1):\n",
    "    chosenOuterName = closet.outerList_noXtender[chosenOuterIndex]\n",
    "    chosenNameList.append(chosenOuterName)\n",
    "\n",
    "chosenNameString = \", \".join(chosenNameList)\n",
    "\n",
    "chatGPT.inputText(f\"{chosenNameString}을(를) 입은 잘생긴 남자 한 명을 전신이 잘 보이게 그려줘. 그리고 날씨와 디자인에 관해서 선정한 이유를 알려줘. 날씨와 디자인으로 문단처럼 나누지 말고 하나의 단락으로 적어줘. 한국어로 답해\")\n",
    "time.sleep(WAIT_INTERVAL)\n",
    "chatGPT.enter()\n",
    "\n",
    "chatGPT.waitWhileStopButton()\n",
    "time.sleep(WAIT_INTERVAL * 1)"
   ]
  },
  {
   "cell_type": "code",
   "execution_count": 11,
   "id": "0e8074e2-4fd0-4a1d-9d52-e908d988d6be",
   "metadata": {
    "execution": {
     "iopub.execute_input": "2024-06-21T17:04:24.863923Z",
     "iopub.status.busy": "2024-06-21T17:04:24.863923Z",
     "iopub.status.idle": "2024-06-21T17:04:28.281441Z",
     "shell.execute_reply": "2024-06-21T17:04:28.281441Z"
    }
   },
   "outputs": [],
   "source": [
    "# 옷 다운로드 받기\n",
    "chatGPT.fetchChats()\n",
    "chatGPT.downloadResultImg()\n",
    "time.sleep(WAIT_INTERVAL * 1)"
   ]
  },
  {
   "cell_type": "code",
   "execution_count": 12,
   "id": "33f8a719-c57b-45e6-8e58-6eacb0acec21",
   "metadata": {
    "execution": {
     "iopub.execute_input": "2024-06-21T17:04:28.290092Z",
     "iopub.status.busy": "2024-06-21T17:04:28.290092Z",
     "iopub.status.idle": "2024-06-21T17:04:28.311000Z",
     "shell.execute_reply": "2024-06-21T17:04:28.311000Z"
    }
   },
   "outputs": [],
   "source": [
    "chatGPT_answer = chatGPT.chats[-1].get_attribute(\"innerText\")\n"
   ]
  },
  {
   "cell_type": "code",
   "execution_count": 13,
   "id": "a22f0211-61c8-4a44-bfed-ba5c8e1fb029",
   "metadata": {
    "execution": {
     "iopub.execute_input": "2024-06-21T17:04:28.311000Z",
     "iopub.status.busy": "2024-06-21T17:04:28.311000Z",
     "iopub.status.idle": "2024-06-21T17:04:28.327673Z",
     "shell.execute_reply": "2024-06-21T17:04:28.327673Z"
    }
   },
   "outputs": [],
   "source": [
    "chatGPT_answer_br = chatGPT_answer.replace(\"\\n\", \"\")\n",
    "chatGPT_answer_br = chatGPT_answer_br.replace(\"4o\", \"\")\n",
    "chatGPT_answer_br = chatGPT_answer_br.replace(\"ChatGPT\", \"\")"
   ]
  },
  {
   "cell_type": "code",
   "execution_count": 14,
   "id": "88f79d3c-e5e5-46fe-a9ee-dcbf9961af80",
   "metadata": {
    "execution": {
     "iopub.execute_input": "2024-06-21T17:04:28.327673Z",
     "iopub.status.busy": "2024-06-21T17:04:28.327673Z",
     "iopub.status.idle": "2024-06-21T17:04:28.350129Z",
     "shell.execute_reply": "2024-06-21T17:04:28.350129Z"
    }
   },
   "outputs": [
    {
     "data": {
      "text/plain": [
       "'오늘 서울의 날씨는 흐리고 기온은 약 23도 정도로, 비교적 시원하고 습도가 높은 편입니다. 이러한 날씨에는 흰색 스니커즈, 검정 티셔츠, 그리고 회색 트레이닝 바지를 추천합니다. 흰색 스니커즈는 다양한 스타일과 잘 어울리며, 검정 티셔츠는 기본적이면서도 깔끔한 인상을 줍니다. 회색 트레이닝 바지는 편안하면서도 캐주얼한 느낌을 주어 전체적으로 자연스럽고 세련된 코디를 완성할 수 있습니다. 이러한 조합은 흐린 날씨에 어울리면서도 활동하기 편리한 옷차림입니다.'"
      ]
     },
     "execution_count": 14,
     "metadata": {},
     "output_type": "execute_result"
    }
   ],
   "source": [
    "chatGPT_answer_br"
   ]
  },
  {
   "cell_type": "code",
   "execution_count": 15,
   "id": "8ec7e327",
   "metadata": {
    "execution": {
     "iopub.execute_input": "2024-06-21T17:04:28.355255Z",
     "iopub.status.busy": "2024-06-21T17:04:28.355255Z",
     "iopub.status.idle": "2024-06-21T17:04:28.368592Z",
     "shell.execute_reply": "2024-06-21T17:04:28.368592Z"
    }
   },
   "outputs": [],
   "source": [
    "with open(r\"C:\\Users\\moonsung1\\Desktop\\201826\\public\\comment.txt\", \"w\", encoding=\"utf-8\") as file:\n",
    "    file.write(chatGPT_answer_br)\n"
   ]
  },
  {
   "cell_type": "code",
   "execution_count": 16,
   "id": "854b3d13-e254-47b2-8536-fa8f77013b4b",
   "metadata": {
    "execution": {
     "iopub.execute_input": "2024-06-21T17:04:28.371170Z",
     "iopub.status.busy": "2024-06-21T17:04:28.371170Z",
     "iopub.status.idle": "2024-06-21T17:04:29.385974Z",
     "shell.execute_reply": "2024-06-21T17:04:29.385974Z"
    }
   },
   "outputs": [],
   "source": [
    "subProc.terminate()\n",
    "time.sleep(1)"
   ]
  }
 ],
 "metadata": {
  "kernelspec": {
   "display_name": "Python 3 (ipykernel)",
   "language": "python",
   "name": "python3"
  },
  "language_info": {
   "codemirror_mode": {
    "name": "ipython",
    "version": 3
   },
   "file_extension": ".py",
   "mimetype": "text/x-python",
   "name": "python",
   "nbconvert_exporter": "python",
   "pygments_lexer": "ipython3",
   "version": "3.11.7"
  }
 },
 "nbformat": 4,
 "nbformat_minor": 5
}
