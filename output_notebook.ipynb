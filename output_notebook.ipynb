{
 "cells": [
  {
   "cell_type": "code",
   "execution_count": 1,
   "id": "2e0b7c13-d7af-43ba-8520-31542999c787",
   "metadata": {
    "execution": {
     "iopub.execute_input": "2024-06-21T11:26:38.266672Z",
     "iopub.status.busy": "2024-06-21T11:26:38.266672Z",
     "iopub.status.idle": "2024-06-21T11:26:43.158531Z",
     "shell.execute_reply": "2024-06-21T11:26:43.158023Z"
    }
   },
   "outputs": [],
   "source": [
    "# 라이브러리\n",
    "# 브라우저 제어를 위한 selenium\n",
    "# selenium 본체\n",
    "from selenium import webdriver\n",
    "from selenium.webdriver.chrome.options import Options\n",
    "from selenium.webdriver.chrome.service import Service\n",
    "# selenium 키입력\n",
    "from selenium.webdriver.common.by import By\n",
    "from selenium.webdriver.common.keys import Keys\n",
    "from selenium.webdriver import ActionChains\n",
    "# 키입력간 딜레이를 주기위한\n",
    "import time\n",
    "# 봇 탐지 우회를 위한 subprocess\n",
    "import subprocess\n",
    "# 크롬 브라우저 자동 버전 관리\n",
    "from webdriver_manager.chrome import ChromeDriverManager\n",
    "# 파일 디렉터리에 접근\n",
    "import os\n",
    "\n",
    "# const\n",
    "WAIT_INTERVAL = 1\n",
    "\n",
    "##### path 설정 #####\n",
    "browserPath = r\"C:\\Program Files\\Google\\Chrome\\Application\\chrome.exe\"\n",
    "cookiePath = r\"C:\\Users\\moonsung1\\AppData\\Local\\Google\\Chrome\\User Data\"\n",
    "closetPath = r\"C:\\Users\\moonsung1\\Desktop\\201826\\public\\uploads\"\n",
    "shoesDirName = \"shoe\"\n",
    "topDirName = \"top\"\n",
    "bottomDirName = \"bottom\"\n",
    "outerDirName = \"outer\"\n",
    "#####################\n",
    "# 서브 프로세스로 크롬 브라우저 boot\n",
    "subProc = subprocess.Popen(r'{0} --remote-debugging-port=9222 --user-data-dir=\"{1}\"'.format(browserPath, cookiePath))\n",
    "url = \"https://chatgpt.com/\"\n",
    "\n",
    "option = Options()\n",
    "option.add_experimental_option(\"debuggerAddress\", \"127.0.0.1:9222\")\n",
    "driver = webdriver.Chrome(service=Service(ChromeDriverManager().install()), options=option)\n",
    "# driver.set_window_position(1000, 1000)\n",
    "time.sleep(WAIT_INTERVAL)\n"
   ]
  },
  {
   "cell_type": "code",
   "execution_count": 2,
   "id": "d8067290-0ca9-49a9-93a6-ade5d67f3ecb",
   "metadata": {
    "execution": {
     "iopub.execute_input": "2024-06-21T11:26:43.161405Z",
     "iopub.status.busy": "2024-06-21T11:26:43.161405Z",
     "iopub.status.idle": "2024-06-21T11:26:43.185493Z",
     "shell.execute_reply": "2024-06-21T11:26:43.184066Z"
    }
   },
   "outputs": [],
   "source": [
    "# chatGPT Class\n",
    "class ChatGPT:\n",
    "    \n",
    "    def __init__(self, driver):\n",
    "        self.GPT_URL = \"https://chatgpt.com/\"\n",
    "        self.driver = driver\n",
    "        self.newGPT()\n",
    "        \n",
    "    def newGPT(self):\n",
    "        self.driver.get(self.GPT_URL)\n",
    "        time.sleep(WAIT_INTERVAL * 2)\n",
    "        self.getMainTag()\n",
    "\n",
    "    def getMainTag(self):\n",
    "        self.textBox = self.driver.find_element(By.CSS_SELECTOR, \"#prompt-textarea\")\n",
    "        self.imgTag = self.driver.find_element(By.CSS_SELECTOR, \"#__next > div.relative.z-0.flex.h-full.w-full.overflow-hidden > div.relative.flex.h-full.max-w-full.flex-1.flex-col.overflow-hidden > main > div.flex.h-full.flex-col.focus-visible\\:outline-0 > div.w-full.md\\:pt-0.dark\\:border-white\\/20.md\\:border-transparent.md\\:dark\\:border-transparent.md\\:w-\\[calc\\(100\\%-\\.5rem\\)\\].juice\\:w-full > div.px-3.text-base.md\\:px-4.m-auto.md\\:px-5.lg\\:px-1.xl\\:px-5 > div > form > div > div.flex.w-full.items-center > div > div > div:nth-child(1) > div > input\")\n",
    "        self.sendButton = self.driver.find_element(By.CSS_SELECTOR, \"#__next > div.relative.z-0.flex.h-full.w-full.overflow-hidden > div.relative.flex.h-full.max-w-full.flex-1.flex-col.overflow-hidden > main > div.flex.h-full.flex-col.focus-visible\\:outline-0 > div.w-full.md\\:pt-0.dark\\:border-white\\/20.md\\:border-transparent.md\\:dark\\:border-transparent.md\\:w-\\[calc\\(100\\%-\\.5rem\\)\\].juice\\:w-full > div.px-3.text-base.md\\:px-4.m-auto.md\\:px-5.lg\\:px-1.xl\\:px-5 > div > form > div > div.flex.w-full.items-center > div > div > button\")\n",
    "\n",
    "    def canSend(self): # 주의할 점, 한 글자도 입력되지 않아도 보낼 수 없는 조건이다. 입력해놓고 대기할때 쓰자\n",
    "        disabled = self.sendButton.get_attribute(\"disabled\")\n",
    "        stop_button = self.sendButton.get_attribute(\"data-testid\")\n",
    "        if(disabled or (stop_button == \"fruitjuice-stop-button\")): # send버튼이 disable이거나 data-testid가 중단이라면 False\n",
    "            return False\n",
    "        else: return True\n",
    "\n",
    "    def isStopButton(self): # chatGPT가 결과물을 다 뱉었는지 보는 \n",
    "        stop_button = self.sendButton.get_attribute(\"data-testid\")\n",
    "        if(stop_button == \"fruitjuice-stop-button\"):\n",
    "            return True\n",
    "        else: return False\n",
    "            \n",
    "    \n",
    "    def enter(self):\n",
    "        self.textBox.send_keys(Keys.ENTER)\n",
    "\n",
    "    def inputText(self, text):\n",
    "        self.textBox.send_keys(text)\n",
    "\n",
    "    def inputImg(self, imgPath):\n",
    "        self.imgTag.send_keys(imgPath)\n",
    "\n",
    "    def inputImgs(self, imgPathList):\n",
    "        imgPaths = \"\\n\".join(imgPathList)\n",
    "        self.inputImg(imgPaths)\n",
    "\n",
    "    def fetchChats(self):\n",
    "        self.chats = driver.find_elements(By.CSS_SELECTOR, \"#__next > div.relative.z-0.flex.h-full.w-full.overflow-hidden > div.relative.flex.h-full.max-w-full.flex-1.flex-col.overflow-hidden > main > div.flex.h-full.flex-col.focus-visible\\:outline-0 > div.flex-1.overflow-hidden > div > div > div > div\")\n",
    "\n",
    "    def downloadResultImg(self):\n",
    "        button = self.chats[-1].find_element(By.CSS_SELECTOR, \"div > div > div.group\\/conversation-turn.relative.flex.w-full.min-w-0.flex-col.agent-turn > div > div.flex.flex-grow.flex-col.max-w-full > div.grid.gap-2.grid-cols-1.my-1.transition-opacity.duration-300 > div > div > div > div.relative.h-full > div.invisible.absolute.top-3.flex.gap-1.group-hover\\/dalle-image\\:visible.right-3 > button\")\n",
    "        ActionChains(self.driver).click(button).perform()\n",
    "\n",
    "    def downloadResultText(self):\n",
    "        result = self.chats[-1].find_element(By.CSS_SELECTOR, \"div > div > div.group\\/conversation-turn.relative.flex.w-full.min-w-0.flex-col.agent-turn > div > div.flex.flex-grow.flex-col.max-w-full > div > div > div > p\")\n",
    "        resultText = result.get_attribute(\"innerText\")\n",
    "        textList = resultText.replace(\"[\", \",\").replace(\"]\", \",\").split(\",\")\n",
    "        # 안 쓰는 앞 뒤 제거\n",
    "        textList.pop(-1)\n",
    "        textList.pop(0)\n",
    "        resultList = list(map(int, textList))\n",
    "        return resultList\n",
    "        "
   ]
  },
  {
   "cell_type": "code",
   "execution_count": 3,
   "id": "181f1427-9664-4995-a9b4-ea6d2db0b2cd",
   "metadata": {
    "execution": {
     "iopub.execute_input": "2024-06-21T11:26:43.192228Z",
     "iopub.status.busy": "2024-06-21T11:26:43.191620Z",
     "iopub.status.idle": "2024-06-21T11:26:43.211575Z",
     "shell.execute_reply": "2024-06-21T11:26:43.210332Z"
    }
   },
   "outputs": [],
   "source": [
    "class Closet:\n",
    "    def __init__(self, closetPath):\n",
    "        self.closetPath = closetPath\n",
    "        ##### 옷장 아래에 신발(shoes), 탑(top), 바텀(bottom) 폴더명 변경 해야합니다 #####\n",
    "        self.shoesPath =r\"{0}\\{1}\".format(closetPath, shoesDirName)\n",
    "        self.topPath =r\"{0}\\{1}\".format(closetPath, topDirName)\n",
    "        self.bottomPath =r\"{0}\\{1}\".format(closetPath, bottomDirName)\n",
    "        self.outerPath =r\"{0}\\{1}\".format(closetPath, outerDirName)\n",
    "\n",
    "        self.fetchShoesList()\n",
    "        self.fetchTopList()\n",
    "        self.fetchBottomList()\n",
    "        self.fetchOuterList()\n",
    "        \n",
    "    def fetchShoesList(self):\n",
    "        self.shoesList = os.listdir(self.shoesPath)\n",
    "        self.shoesList_noXtender = list(map(self.deleteJPGxtender, self.shoesList))\n",
    "        \n",
    "    def fetchTopList(self):\n",
    "        self.topList = os.listdir(self.topPath)\n",
    "        self.topList_noXtender = list(map(self.deleteJPGxtender, self.topList))\n",
    "        \n",
    "    def fetchBottomList(self):\n",
    "        self.bottomList = os.listdir(self.bottomPath)\n",
    "        self.bottomList_noXtender = list(map(self.deleteJPGxtender, self.bottomList))\n",
    "\n",
    "    def fetchOuterList(self):\n",
    "        self.outerList = os.listdir(self.outerPath)\n",
    "        self.outerList_noXtender = list(map(self.deleteJPGxtender, self.outerList))\n",
    "        \n",
    "    def deleteJPGxtender(self, fileName):\n",
    "        tmp_file = fileName.split(\".\")\n",
    "        return tmp_file[0]\n",
    "\n",
    "    def shoesListToString(self):\n",
    "        indexedShoesList = []\n",
    "        for index, shoes in enumerate(self.shoesList_noXtender):\n",
    "            indexedShoes = f\"{index}. {shoes}\"\n",
    "            indexedShoesList.append(indexedShoes)\n",
    "\n",
    "        return \", \".join(indexedShoesList)\n",
    "        \n",
    "    def topListToString(self):\n",
    "        indexedTopList = []\n",
    "        for index, top in enumerate(self.topList_noXtender):\n",
    "            indexedTop = f\"{index}. {top}\"\n",
    "            indexedTopList.append(indexedTop)\n",
    "\n",
    "        return \", \".join(indexedTopList)\n",
    "        \n",
    "    def bottomListToString(self):\n",
    "        indexedBottomList = []\n",
    "        for index, bottom in enumerate(self.bottomList_noXtender):\n",
    "            indexedBottom = f\"{index}. {bottom}\"\n",
    "            indexedBottomList.append(indexedBottom)\n",
    "\n",
    "        return \", \".join(indexedBottomList)\n",
    "\n",
    "    def outerListToString(self):\n",
    "        indexedOuterList = []\n",
    "        for index, outer in enumerate(self.outerList_noXtender):\n",
    "            indexedOuter = f\"{index}. {outer}\"\n",
    "            indexedOuterList.append(indexedOuter)\n",
    "\n",
    "        return \", \".join(indexedOuterList)\n",
    "        "
   ]
  },
  {
   "cell_type": "code",
   "execution_count": 4,
   "id": "c5f08d2e-6c31-467c-90ff-57a96365df8a",
   "metadata": {
    "execution": {
     "iopub.execute_input": "2024-06-21T11:26:43.218964Z",
     "iopub.status.busy": "2024-06-21T11:26:43.213905Z",
     "iopub.status.idle": "2024-06-21T11:26:47.667583Z",
     "shell.execute_reply": "2024-06-21T11:26:47.667583Z"
    }
   },
   "outputs": [],
   "source": [
    "# chatGPT 생성\n",
    "chatGPT = ChatGPT(driver)\n",
    "time.sleep(WAIT_INTERVAL)"
   ]
  },
  {
   "cell_type": "code",
   "execution_count": 5,
   "id": "c4b47b7a-9f91-4b25-9764-67f7d2b31c45",
   "metadata": {
    "execution": {
     "iopub.execute_input": "2024-06-21T11:26:47.667583Z",
     "iopub.status.busy": "2024-06-21T11:26:47.667583Z",
     "iopub.status.idle": "2024-06-21T11:26:47.690056Z",
     "shell.execute_reply": "2024-06-21T11:26:47.689004Z"
    }
   },
   "outputs": [],
   "source": [
    "# 임의 옷장 하나 생성\n",
    "##### 옷장 폴더 위치 변경 해야 합니다 #####\n",
    "closet = Closet(closetPath)"
   ]
  },
  {
   "cell_type": "code",
   "execution_count": 6,
   "id": "85a78b9c-7bcc-4b2a-9081-06444195d3fe",
   "metadata": {
    "execution": {
     "iopub.execute_input": "2024-06-21T11:26:47.697767Z",
     "iopub.status.busy": "2024-06-21T11:26:47.697767Z",
     "iopub.status.idle": "2024-06-21T11:26:47.707682Z",
     "shell.execute_reply": "2024-06-21T11:26:47.707682Z"
    }
   },
   "outputs": [],
   "source": [
    "requestText = \"\"\n",
    "requestText += \"내가 가지고 있는 옷을 알려주면, 오늘의 날씨, 기온,  색깔 조합(옷 조합의 디자인) 세 가지를 고려해서 옷 조합을 추천해줘 \"\n",
    "requestText += \"내가 가진 옷은 다음과 같아. \"\n",
    "requestText += \"(신발: \" + closet.shoesListToString()\n",
    "requestText += \") (상의: \" + closet.topListToString()\n",
    "requestText += \") (하의: \" + closet.bottomListToString()\n",
    "requestText += \") (아우터: \" + closet.outerListToString()\n",
    "requestText += \") 추천하는 옷 조합을 신발, 상의, 하의, 아우터 순서대로 번호를 GPTrecommended 리스트에 담아줘. 예를 들면 GPTrecommended = [0, 2, 1, 3] 이렇게. \"\n",
    "requestText += \"이유가 있다면 아우터는 선택하지 않아도 돼 특히 날씨가 덥거나 하다면. 선택하지 않으면 -1을 리스트에 담아줘. \"\n",
    "requestText += \"대답은 GPTrecommended만 해 아주 짧게.\""
   ]
  },
  {
   "cell_type": "code",
   "execution_count": 7,
   "id": "2cf8fc3d-1018-44cb-9bd7-253f51ca5323",
   "metadata": {
    "execution": {
     "iopub.execute_input": "2024-06-21T11:26:47.712973Z",
     "iopub.status.busy": "2024-06-21T11:26:47.712973Z",
     "iopub.status.idle": "2024-06-21T11:27:00.629421Z",
     "shell.execute_reply": "2024-06-21T11:27:00.629421Z"
    }
   },
   "outputs": [],
   "source": [
    "# 요청 보내기\n",
    "chatGPT.inputText(requestText)\n",
    "chatGPT.enter()\n",
    "time.sleep(WAIT_INTERVAL)\n",
    "while(chatGPT.isStopButton()):\n",
    "    time.sleep(WAIT_INTERVAL)\n",
    "    # do nothing. just busy wait\n",
    "time.sleep(WAIT_INTERVAL)"
   ]
  },
  {
   "cell_type": "code",
   "execution_count": 8,
   "id": "c953159f-3c99-447b-9fab-5d89e88bc8f3",
   "metadata": {
    "execution": {
     "iopub.execute_input": "2024-06-21T11:27:00.633324Z",
     "iopub.status.busy": "2024-06-21T11:27:00.633324Z",
     "iopub.status.idle": "2024-06-21T11:27:01.692359Z",
     "shell.execute_reply": "2024-06-21T11:27:01.692359Z"
    }
   },
   "outputs": [],
   "source": [
    "# 결과물 가져오기 \n",
    "chatGPT.fetchChats()\n",
    "chosenClothes = chatGPT.downloadResultText()\n",
    "time.sleep(WAIT_INTERVAL)\n",
    "\n",
    "chosenShoesIndex = chosenClothes[0]\n",
    "chosenTopIndex = chosenClothes[1]\n",
    "chosenBottomIndex = chosenClothes[2]\n",
    "chosenOuterIndex = chosenClothes[3]"
   ]
  },
  {
   "cell_type": "code",
   "execution_count": 9,
   "id": "fbc0dc69-691c-48dd-bb6c-a6c35e662307",
   "metadata": {
    "execution": {
     "iopub.execute_input": "2024-06-21T11:27:01.699384Z",
     "iopub.status.busy": "2024-06-21T11:27:01.699384Z",
     "iopub.status.idle": "2024-06-21T11:27:02.836942Z",
     "shell.execute_reply": "2024-06-21T11:27:02.836942Z"
    }
   },
   "outputs": [],
   "source": [
    "# 고른 걸로 옷 그려줘(옷 업로드)\n",
    "shoesPath = r\"{0}\\{1}\".format(closet.shoesPath, closet.shoesList[chosenShoesIndex])\n",
    "topPath = r\"{0}\\{1}\".format(closet.topPath, closet.topList[chosenTopIndex])\n",
    "bottomPath = r\"{0}\\{1}\".format(closet.bottomPath, closet.bottomList[chosenBottomIndex])\n",
    "pathList = [shoesPath, topPath, bottomPath]\n",
    "if(chosenOuterIndex != -1):\n",
    "    outerPath = r\"{0}\\{1}\".format(closet.outerPath, closet.outerList[chosenOuterIndex])\n",
    "    pathList.append(outerPath)\n",
    "\n",
    "chatGPT.inputImgs(pathList)\n",
    "while(chatGPT.isStopButton()): # 업로드 잠시 대기\n",
    "    time.sleep(WAIT_INTERVAL)\n",
    "time.sleep(WAIT_INTERVAL)"
   ]
  },
  {
   "cell_type": "code",
   "execution_count": 10,
   "id": "561c1e04-cf14-4397-8abd-ab9e2c366677",
   "metadata": {
    "execution": {
     "iopub.execute_input": "2024-06-21T11:27:02.836942Z",
     "iopub.status.busy": "2024-06-21T11:27:02.836942Z",
     "iopub.status.idle": "2024-06-21T11:27:31.139940Z",
     "shell.execute_reply": "2024-06-21T11:27:31.139940Z"
    }
   },
   "outputs": [],
   "source": [
    "# 고른 걸로 옷 그려줘(텍스트로 업로드)\n",
    "chosenShoesName = closet.shoesList_noXtender[chosenShoesIndex]\n",
    "chosenTopName = closet.topList_noXtender[chosenTopIndex]\n",
    "chosenBottomName = closet.bottomList_noXtender[chosenBottomIndex]\n",
    "\n",
    "chosenNameList = [chosenShoesName, chosenTopName, chosenBottomName]\n",
    "if(chosenOuterIndex != -1):\n",
    "    chosenOuterName = closet.outerList_noXtender[chosenOuterIndex]\n",
    "    chosenNameList.append(chosenOuterName)\n",
    "\n",
    "chosenNameString = \", \".join(chosenNameList)\n",
    "\n",
    "chatGPT.inputText(f\"{chosenNameString}을(를) 입은 한국 남성 그림을 '하나만' 출력. 그림만 보여줘. 사람 한 명만 그림에 꽉 차게. 발부터 머리까지 잘 보이도록.\")\n",
    "time.sleep(WAIT_INTERVAL)\n",
    "chatGPT.enter()\n",
    "\n",
    "while(chatGPT.isStopButton()): # 이미지 생성 대기\n",
    "    # do nothing. just busy wait\n",
    "    time.sleep(WAIT_INTERVAL)\n",
    "time.sleep(WAIT_INTERVAL)"
   ]
  },
  {
   "cell_type": "code",
   "execution_count": 11,
   "id": "0e8074e2-4fd0-4a1d-9d52-e908d988d6be",
   "metadata": {
    "execution": {
     "iopub.execute_input": "2024-06-21T11:27:31.139940Z",
     "iopub.status.busy": "2024-06-21T11:27:31.139940Z",
     "iopub.status.idle": "2024-06-21T11:27:41.641644Z",
     "shell.execute_reply": "2024-06-21T11:27:41.641644Z"
    }
   },
   "outputs": [],
   "source": [
    "# 옷 다운로드 받기\n",
    "chatGPT.fetchChats()\n",
    "chatGPT.downloadResultImg()\n",
    "time.sleep(10)"
   ]
  },
  {
   "cell_type": "code",
   "execution_count": 12,
   "id": "854b3d13-e254-47b2-8536-fa8f77013b4b",
   "metadata": {
    "execution": {
     "iopub.execute_input": "2024-06-21T11:27:41.649671Z",
     "iopub.status.busy": "2024-06-21T11:27:41.649671Z",
     "iopub.status.idle": "2024-06-21T11:27:41.666902Z",
     "shell.execute_reply": "2024-06-21T11:27:41.665903Z"
    }
   },
   "outputs": [],
   "source": [
    "subProc.terminate()"
   ]
  }
 ],
 "metadata": {
  "kernelspec": {
   "display_name": "Python 3 (ipykernel)",
   "language": "python",
   "name": "python3"
  },
  "language_info": {
   "codemirror_mode": {
    "name": "ipython",
    "version": 3
   },
   "file_extension": ".py",
   "mimetype": "text/x-python",
   "name": "python",
   "nbconvert_exporter": "python",
   "pygments_lexer": "ipython3",
   "version": "3.11.7"
  }
 },
 "nbformat": 4,
 "nbformat_minor": 5
}
