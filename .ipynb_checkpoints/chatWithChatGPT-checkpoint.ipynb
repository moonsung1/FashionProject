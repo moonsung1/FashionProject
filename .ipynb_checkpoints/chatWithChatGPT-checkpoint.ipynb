{
 "cells": [
  {
   "cell_type": "code",
   "execution_count": 1,
   "id": "ed66f82d-e579-46ae-9816-983e9ad9b062",
   "metadata": {},
   "outputs": [],
   "source": [
    "# 라이브러리\n",
    "# 브라우저 제어를 위한 selenium\n",
    "# selenium 본체\n",
    "from selenium import webdriver\n",
    "from selenium.webdriver.chrome.options import Options\n",
    "from selenium.webdriver.chrome.service import Service\n",
    "# selenium 키입력\n",
    "from selenium.webdriver.common.by import By\n",
    "from selenium.webdriver.common.keys import Keys\n",
    "from selenium.webdriver import ActionChains\n",
    "# 키입력간 딜레이를 주기위한\n",
    "import time\n",
    "# 봇 탐지 우회를 위한 subprocess\n",
    "import subprocess\n",
    "# 크롬 브라우저 자동 버전 관리\n",
    "from webdriver_manager.chrome import ChromeDriverManager\n",
    "\n",
    "# 서브 프로세스로 크롬 브라우저 boot\n",
    "subprocess.Popen(r'C:\\Program Files\\Google\\Chrome\\Application\\chrome.exe --remote-debugging-port=9222 --user-data-dir=\"C:\\Users\\201597\\AppData\\Local\\Google\\Chrome\\User Data\"')\n",
    "url = \"https://chatgpt.com/\"\n",
    "\n",
    "option = Options()\n",
    "option.add_experimental_option(\"debuggerAddress\", \"127.0.0.1:9222\")\n",
    "driver = webdriver.Chrome(service=Service(ChromeDriverManager().install()), options=option)\n",
    "time.sleep(3)\n",
    "\n",
    "# const\n",
    "WAIT_INTERVAL = 5\n",
    "\n",
    "# chatGPT Class\n",
    "class ChatGPT:\n",
    "    chatGPT_URL = \"https://chatgpt.com/\"\n",
    "    \n",
    "    def __init__(self, driver):\n",
    "        self.driver = driver\n",
    "        self.newGPT()\n",
    "        \n",
    "    def newGPT(self):\n",
    "        self.driver.get(self.__class__.chatGPT_URL)\n",
    "        time.sleep(3)\n",
    "        self.getMainTag()\n",
    "\n",
    "    def getMainTag(self):\n",
    "        self.textBox = self.driver.find_element(By.CSS_SELECTOR, \"#prompt-textarea\")\n",
    "        self.imgTag = self.driver.find_element(By.CSS_SELECTOR, \"#__next > div.relative.z-0.flex.h-full.w-full.overflow-hidden > div.relative.flex.h-full.max-w-full.flex-1.flex-col.overflow-hidden > main > div.flex.h-full.flex-col.focus-visible\\:outline-0 > div.w-full.md\\:pt-0.dark\\:border-white\\/20.md\\:border-transparent.md\\:dark\\:border-transparent.md\\:w-\\[calc\\(100\\%-\\.5rem\\)\\].juice\\:w-full > div.px-3.text-base.md\\:px-4.m-auto.md\\:px-5.lg\\:px-1.xl\\:px-5 > div > form > div > div.flex.w-full.items-center > div > div > div:nth-child(1) > div > input\")\n",
    "\n",
    "    def enter(self):\n",
    "        self.textBox.send_keys(Keys.ENTER)\n",
    "\n",
    "    def inputText(self, text):\n",
    "        self.textBox.send_keys(text)\n",
    "\n",
    "    def inputImg(self, imgPath):\n",
    "        self.imgTag.send_keys(imgPath)\n",
    "\n",
    "    def inputImgs(self, imgPathList):\n",
    "        imgPaths = \"\\n\".join(imgPathList)\n",
    "        self.inputImg(imgPaths)\n",
    "\n",
    "    def fetchChats(self):\n",
    "        self.chats = driver.find_elements(By.CSS_SELECTOR, \"#__next > div.relative.z-0.flex.h-full.w-full.overflow-hidden > div.relative.flex.h-full.max-w-full.flex-1.flex-col.overflow-hidden > main > div.flex.h-full.flex-col.focus-visible\\:outline-0 > div.flex-1.overflow-hidden > div > div > div > div\")\n",
    "\n",
    "    def getChats(self):\n",
    "        return self.chats\n",
    "\n",
    "    def downloadResultImg(self):\n",
    "        button = self.chats[len(self.chats) - 1].find_element(By.CSS_SELECTOR, \"div > div > div.group\\/conversation-turn.relative.flex.w-full.min-w-0.flex-col.agent-turn > div > div.flex.flex-grow.flex-col.max-w-full > div.grid.gap-2.grid-cols-1.my-1.transition-opacity.duration-300 > div > div > div > div.relative.h-full > div.invisible.absolute.top-3.flex.gap-1.group-hover\\/dalle-image\\:visible.right-3 > button\")\n",
    "        ActionChains(self.driver).click(button).perform()\n",
    "        \n",
    "        "
   ]
  },
  {
   "cell_type": "code",
   "execution_count": 2,
   "id": "c5f08d2e-6c31-467c-90ff-57a96365df8a",
   "metadata": {},
   "outputs": [],
   "source": [
    "# chatGPT 생성\n",
    "chatGPT = ChatGPT(driver)"
   ]
  },
  {
   "cell_type": "code",
   "execution_count": 3,
   "id": "9894f8ab-59a1-4c81-9cc7-88e4dfc6607e",
   "metadata": {},
   "outputs": [],
   "source": [
    "# 옷 그려줘\n",
    "imgPath = r\"C:\\Users\\201597\\Desktop\\studies\\softwareEngineering\\FashionProject\\public\\images\\set_images\\set_image_1.png\"\n",
    "chatGPT.inputImg(imgPath)\n",
    "chatGPT.inputText(\"이 옷 세트를 입은 한국 남성 한 명만 그려줘\")\n",
    "time.sleep(WAIT_INTERVAL) # 업로드 시간 잠시 대기\n",
    "chatGPT.enter()"
   ]
  },
  {
   "cell_type": "code",
   "execution_count": 4,
   "id": "d78eaa8b-ce36-4ae6-bec6-cb132b6dfb03",
   "metadata": {},
   "outputs": [],
   "source": [
    "time.sleep(20) # 그림 그리는 시간 대기"
   ]
  },
  {
   "cell_type": "code",
   "execution_count": 5,
   "id": "0e8074e2-4fd0-4a1d-9d52-e908d988d6be",
   "metadata": {},
   "outputs": [],
   "source": [
    "# 옷 다운로드 받기\n",
    "chatGPT.fetchChats()\n",
    "chatGPT.downloadResultImg()"
   ]
  }
 ],
 "metadata": {
  "kernelspec": {
   "display_name": "Python 3 (ipykernel)",
   "language": "python",
   "name": "python3"
  },
  "language_info": {
   "codemirror_mode": {
    "name": "ipython",
    "version": 3
   },
   "file_extension": ".py",
   "mimetype": "text/x-python",
   "name": "python",
   "nbconvert_exporter": "python",
   "pygments_lexer": "ipython3",
   "version": "3.11.7"
  }
 },
 "nbformat": 4,
 "nbformat_minor": 5
}
